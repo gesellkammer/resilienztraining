{
 "cells": [
  {
   "cell_type": "code",
   "execution_count": 26,
   "metadata": {},
   "outputs": [],
   "source": [
    "from emlib.iterlib import pairwise\n",
    "from dataclasses import dataclass\n",
    "from emlib.lib import print_table\n",
    "from emlib.mus import *\n",
    "\n",
    "\n",
    "class TurntableTrack:\n",
    "    def __init__(self, kind='snd'):\n",
    "        self.kind = kind\n",
    "        self.events = []\n",
    "    \n",
    "    def add(self, time, event):\n",
    "        self.events.append((time, event))\n",
    "        self.events.sort()\n",
    "        \n",
    "    def at(self, time):\n",
    "        if not self.events or time < self.events[0][0]:\n",
    "            return None\n",
    "        for ev0, ev1 in pairwise(self.events):\n",
    "            if ev0[0] <= time < ev1[0]:\n",
    "                return ev0\n",
    "        return self.events[-1]\n",
    "    \n",
    "    def __repr__(self):\n",
    "        ls = []\n",
    "        for ev in self.events:\n",
    "            l = f\"{ev[0]}: {ev[1]}\"\n",
    "            ls.append(l)\n",
    "        return \"\\n\".join(ls)\n",
    "    \n",
    "    def report(self):\n",
    "        rows = []\n",
    "        for time, descr in self.events:\n",
    "            if \":\" in descr:\n",
    "                label, rest = descr.split(\":\")\n",
    "            else:\n",
    "                label = descr\n",
    "                rest = \"-\"\n",
    "            if self.kind == 'snd':\n",
    "                diff = checksnd(rest)\n",
    "                row = (label, rest, diff, time)\n",
    "            else:\n",
    "                row = (label, rest, time)\n",
    "            rows.append(row)\n",
    "        print_table(rows)\n",
    "        \n",
    "    def clear(self):\n",
    "        self.events = []     \n",
    "    \n",
    "class TurntableState:\n",
    "    def __init__(self):\n",
    "        self.weight = TurntableTrack('weight')\n",
    "        self.snd = TurntableTrack('snd')\n",
    "        self.tracks = (self.weight, self.snd)\n",
    "        \n",
    "    def addWeight(self, time, descr):\n",
    "        self.weight.add(time, descr)\n",
    "    \n",
    "    def addSnd(self, time, descr):\n",
    "        self.snd.add(time, descr)\n",
    "        \n",
    "    def at(self, time):\n",
    "        return [track.at(time) for track in self.tracks]\n",
    "    \n",
    "    def clear(self):\n",
    "        for track in self.tracks:\n",
    "            track.clear()\n",
    "    "
   ]
  },
  {
   "cell_type": "code",
   "execution_count": 27,
   "metadata": {},
   "outputs": [],
   "source": [
    "t1, t2, t3, t4 = [TurntableState() for _ in range(4)]\n",
    "ts = [t1, t2, t3, t4]\n",
    "\n",
    "def stateAt(time):\n",
    "    rows = []\n",
    "    for i, t in enumerate(ts):\n",
    "        w, s = t.at(time)\n",
    "        rows.append([i, w, s])\n",
    "    print_table(rows)\n",
    "    \n",
    "def showchord(ttchord):\n",
    "    ttchord.show()\n",
    "    print(ttchord)\n",
    "    ttchord.difftones().show()\n",
    "    \n",
    "def checksnd(descr):\n",
    "    assert \"/\" in descr, descr\n",
    "    snd45, snd33 = descr.split(\"/\")\n",
    "    ch45 = Chord(snd45)\n",
    "    ch33 = Chord(snd33)\n",
    "    if len(ch45) != len(ch33):\n",
    "        raise ValueError(\"los acordes tienen diferente cantidad de notas\")\n",
    "    ch33teorico = ch45.transpose(r2i(33.3333/45))\n",
    "    diff = sum(abs(n1.midi-n0.midi) for n0, n1 in zip(ch33teorico, ch33))\n",
    "    return diff\n",
    "\n"
   ]
  },
  {
   "cell_type": "markdown",
   "metadata": {},
   "source": [
    "## TT1"
   ]
  },
  {
   "cell_type": "code",
   "execution_count": 28,
   "metadata": {},
   "outputs": [],
   "source": [
    "t1 = ts[0]\n",
    "t1.clear()\n",
    "t1.addSnd(1, \"Snd1: 7E 7D+ / 6B-20 6A+30\")\n",
    "t1.addSnd(39, \"Snd2: 8C 7B / 7G-20 7F#-20\")\n",
    "t1.addSnd(47, \"Snd3: 7C# / 6G#-20\")\n",
    "t1.addWeight(70, \"Pos1: 4Kg (small deviation)\")\n",
    "t1.addSnd(83, \"Snd4: 7A+20 / 7E\")\n",
    "t1.addWeight(83, \"No weight\")\n",
    "t1.addSnd(125, \"Snd5: 3Bb-30 3Ab+20 / 3F- 3Eb\")\n",
    "t1.addWeight(147, \"Pos1: 5Kg\")\n",
    "t1.addWeight(182, \"No weight\")\n",
    "t1.addSnd(189, \"Snd6: 4E 4D+ / 3B-20 3A+30\")\n",
    "t1.addWeight(203, \"Pos1: 5Kg (-50c/+20c)\")\n",
    "t1.addSnd(218, \"Snd7: 3F+ 3E / 3C+30 2B-20\")\n",
    "t1.addWeight(222, \"Pos2: 2,5Kg\")\n"
   ]
  },
  {
   "cell_type": "markdown",
   "metadata": {},
   "source": [
    "## TT2"
   ]
  },
  {
   "cell_type": "code",
   "execution_count": 29,
   "metadata": {},
   "outputs": [],
   "source": [
    "t2 = ts[1]\n",
    "t2.clear()\n",
    "t2.addSnd(1, \"Snd1: 7B-30 7Bb-30 / 7F+ 7E+\")\n",
    "t2.addWeight(17, \"Pos0: 5Kg\")\n",
    "t2.addWeight(23, \"No weight\")\n",
    "t2.addSnd(34, \"Snd2: 7Gb+20 7F / 7Db 7C-20\")\n",
    "t2.addSnd(47, \"Snd3: 7D+ / 6A+30\")\n",
    "t2.addSnd(83, \"Snd4: 7G#-30 / 7D+\")\n",
    "t2.addSnd(110, \"Snd5: 4D 4C#+ / 3A-20 3G#+30\")\n",
    "t2.addSnd(124, \"Snd6: 4Eb 4D- / 3Bb-20 3Ab+30\")\n",
    "t2.addWeight(124, \"Alu\")\n",
    "t2.addSnd(183, \"Snd7: 4A / 4E-20\")\n",
    "t2.addSnd(200, \"Snd8: 4Eb / 3Bb-20\")\n",
    "t2.addSnd(219, \"Snd9: 3B+20 / 3F#\")\n"
   ]
  },
  {
   "cell_type": "markdown",
   "metadata": {},
   "source": [
    "# TT3"
   ]
  },
  {
   "cell_type": "code",
   "execution_count": 30,
   "metadata": {
    "run_control": {
     "marked": true
    }
   },
   "outputs": [],
   "source": [
    "t3 = ts[2]; t3.clear()\n",
    "t3.addSnd(1, \"Snd1: 7B-30 7Bb-30 / 7F+ 7E+\")\n",
    "t3.addSnd(23, \"Snd2: 7D# 7C# / 6A#-20 6G#-20\")\n",
    "t3.addSnd(39, \"Snd3: 7A 7G+ / 7E-20 7D+30\")\n",
    "t3.addSnd(47, \"Snd4: 7D / 6A-20\")\n",
    "t3.addSnd(83, \"Snd5: 4D 4C#+ / 3A-20 3G#+30\")\n",
    "t3.addWeight(112, \"Pos0, 4Kg (??)\")\n",
    "t3.addSnd(124, \"Snd6: 4Eb 4D- / 3Bb-20 3Ab+30\")\n",
    "t3.addWeight(135, \"Pos1: 5Kg\")\n",
    "t3.addWeight(163, \"Pos1: 4Kg (small deviation)\")\n",
    "t3.addSnd(189, \"Snd7: 3B-20 3A+30 / 3F+60 3E+10\")\n",
    "t3.addWeight(189, \"Pos1: 5Kg\")"
   ]
  },
  {
   "cell_type": "markdown",
   "metadata": {},
   "source": [
    "## TT4"
   ]
  },
  {
   "cell_type": "code",
   "execution_count": 31,
   "metadata": {},
   "outputs": [],
   "source": [
    "t4 = ts[3]; t4.clear()\n",
    "t4.addSnd(12, \"Snd1: 3A 3G# / 3E-20 3D#-20\")\n",
    "t4.addSnd(23, \"Snd2: 7A 7G+ / 7E-20 7D+30\")\n",
    "t4.addWeight(39, \"Pos1: 4Kg (smalles noticiable dev)\")\n",
    "t4.addSnd(47, \"Snd3: 7E-31 / 6B-\")\n",
    "t4.addWeight(63, \"Pos1: 4Kg (small dev)\")\n",
    "t4.addSnd(83, \"Snd4: 7D / 6A-20\")\n",
    "t4.addSnd(164, \"Snd5: 3Bb-20 3Ab+30 / 3F-40 3Eb+10\")\n",
    "t4.addSnd(189, \"Snd6: 4E 4D+ / 3B-20 3A+30\")\n",
    "t4.addWeight(207, \"Pos0: 5Kg (almost no dev)\")\n",
    "t4.addWeight(214, \"Pos1: 5Kg\")\n",
    "t4.addSnd(222, \"Snd7: 3F+ 3E / 3C+30 2B-20\")\n",
    "t4.addWeight(222, \"No weight\")\n",
    "t4.addWeight(236, \"Pos1: 5Kg\")"
   ]
  },
  {
   "cell_type": "code",
   "execution_count": 32,
   "metadata": {},
   "outputs": [
    {
     "name": "stdout",
     "output_type": "stream",
     "text": [
      "T1\n"
     ]
    },
    {
     "data": {
      "text/html": [
       "<table>\n",
       "<tbody>\n",
       "<tr><td>Snd1</td><td>7E 7D+ / 6B-20 6A+30   </td><td style=\"text-align: right;\">0.0089396</td><td style=\"text-align: right;\">  1</td></tr>\n",
       "<tr><td>Snd2</td><td>8C 7B / 7G-20 7F#-20   </td><td style=\"text-align: right;\">0.0089396</td><td style=\"text-align: right;\"> 39</td></tr>\n",
       "<tr><td>Snd3</td><td>7C# / 6G#-20           </td><td style=\"text-align: right;\">0.0044698</td><td style=\"text-align: right;\"> 47</td></tr>\n",
       "<tr><td>Snd4</td><td>7A+20 / 7E             </td><td style=\"text-align: right;\">0.0044698</td><td style=\"text-align: right;\"> 83</td></tr>\n",
       "<tr><td>Snd5</td><td>3Bb-30 3Ab+20 / 3F- 3Eb</td><td style=\"text-align: right;\">0.0089396</td><td style=\"text-align: right;\">125</td></tr>\n",
       "<tr><td>Snd6</td><td>4E 4D+ / 3B-20 3A+30   </td><td style=\"text-align: right;\">0.0089396</td><td style=\"text-align: right;\">189</td></tr>\n",
       "<tr><td>Snd7</td><td>3F+ 3E / 3C+30 2B-20   </td><td style=\"text-align: right;\">0.0089396</td><td style=\"text-align: right;\">218</td></tr>\n",
       "</tbody>\n",
       "</table>"
      ],
      "text/plain": [
       "<IPython.core.display.HTML object>"
      ]
     },
     "metadata": {},
     "output_type": "display_data"
    },
    {
     "name": "stdout",
     "output_type": "stream",
     "text": [
      "T2\n"
     ]
    },
    {
     "data": {
      "text/html": [
       "<table>\n",
       "<tbody>\n",
       "<tr><td>Snd1</td><td>7B-30 7Bb-30 / 7F+ 7E+ </td><td style=\"text-align: right;\">0.0089396</td><td style=\"text-align: right;\">  1</td></tr>\n",
       "<tr><td>Snd2</td><td>7Gb+20 7F / 7Db 7C-20  </td><td style=\"text-align: right;\">0.0089396</td><td style=\"text-align: right;\"> 34</td></tr>\n",
       "<tr><td>Snd3</td><td>7D+ / 6A+30            </td><td style=\"text-align: right;\">0.0044698</td><td style=\"text-align: right;\"> 47</td></tr>\n",
       "<tr><td>Snd4</td><td>7G#-30 / 7D+           </td><td style=\"text-align: right;\">0.0044698</td><td style=\"text-align: right;\"> 83</td></tr>\n",
       "<tr><td>Snd5</td><td>4D 4C#+ / 3A-20 3G#+30 </td><td style=\"text-align: right;\">0.0089396</td><td style=\"text-align: right;\">110</td></tr>\n",
       "<tr><td>Snd6</td><td>4Eb 4D- / 3Bb-20 3Ab+30</td><td style=\"text-align: right;\">0.0089396</td><td style=\"text-align: right;\">124</td></tr>\n",
       "<tr><td>Snd7</td><td>4A / 4E-20             </td><td style=\"text-align: right;\">0.0044698</td><td style=\"text-align: right;\">183</td></tr>\n",
       "<tr><td>Snd8</td><td>4Eb / 3Bb-20           </td><td style=\"text-align: right;\">0.0044698</td><td style=\"text-align: right;\">200</td></tr>\n",
       "<tr><td>Snd9</td><td>3B+20 / 3F#            </td><td style=\"text-align: right;\">0.0044698</td><td style=\"text-align: right;\">219</td></tr>\n",
       "</tbody>\n",
       "</table>"
      ],
      "text/plain": [
       "<IPython.core.display.HTML object>"
      ]
     },
     "metadata": {},
     "output_type": "display_data"
    },
    {
     "name": "stdout",
     "output_type": "stream",
     "text": [
      "T3\n"
     ]
    },
    {
     "data": {
      "text/html": [
       "<table>\n",
       "<tbody>\n",
       "<tr><td>Snd1</td><td>7B-30 7Bb-30 / 7F+ 7E+   </td><td style=\"text-align: right;\">0.0089396</td><td style=\"text-align: right;\">  1</td></tr>\n",
       "<tr><td>Snd2</td><td>7D# 7C# / 6A#-20 6G#-20  </td><td style=\"text-align: right;\">0.0089396</td><td style=\"text-align: right;\"> 23</td></tr>\n",
       "<tr><td>Snd3</td><td>7A 7G+ / 7E-20 7D+30     </td><td style=\"text-align: right;\">0.0089396</td><td style=\"text-align: right;\"> 39</td></tr>\n",
       "<tr><td>Snd4</td><td>7D / 6A-20               </td><td style=\"text-align: right;\">0.0044698</td><td style=\"text-align: right;\"> 47</td></tr>\n",
       "<tr><td>Snd5</td><td>4D 4C#+ / 3A-20 3G#+30   </td><td style=\"text-align: right;\">0.0089396</td><td style=\"text-align: right;\"> 83</td></tr>\n",
       "<tr><td>Snd6</td><td>4Eb 4D- / 3Bb-20 3Ab+30  </td><td style=\"text-align: right;\">0.0089396</td><td style=\"text-align: right;\">124</td></tr>\n",
       "<tr><td>Snd7</td><td>3B-20 3A+30 / 3F+60 3E+10</td><td style=\"text-align: right;\">0.0089396</td><td style=\"text-align: right;\">189</td></tr>\n",
       "</tbody>\n",
       "</table>"
      ],
      "text/plain": [
       "<IPython.core.display.HTML object>"
      ]
     },
     "metadata": {},
     "output_type": "display_data"
    },
    {
     "name": "stdout",
     "output_type": "stream",
     "text": [
      "T4\n"
     ]
    },
    {
     "data": {
      "text/html": [
       "<table>\n",
       "<tbody>\n",
       "<tr><td>Snd1</td><td>3A 3G# / 3E-20 3D#-20       </td><td style=\"text-align: right;\">0.0089396</td><td style=\"text-align: right;\"> 12</td></tr>\n",
       "<tr><td>Snd2</td><td>7A 7G+ / 7E-20 7D+30        </td><td style=\"text-align: right;\">0.0089396</td><td style=\"text-align: right;\"> 23</td></tr>\n",
       "<tr><td>Snd3</td><td>7E-31 / 6B-                 </td><td style=\"text-align: right;\">0.0055302</td><td style=\"text-align: right;\"> 47</td></tr>\n",
       "<tr><td>Snd4</td><td>7D / 6A-20                  </td><td style=\"text-align: right;\">0.0044698</td><td style=\"text-align: right;\"> 83</td></tr>\n",
       "<tr><td>Snd5</td><td>3Bb-20 3Ab+30 / 3F-40 3Eb+10</td><td style=\"text-align: right;\">0.0089396</td><td style=\"text-align: right;\">164</td></tr>\n",
       "<tr><td>Snd6</td><td>4E 4D+ / 3B-20 3A+30        </td><td style=\"text-align: right;\">0.0089396</td><td style=\"text-align: right;\">189</td></tr>\n",
       "<tr><td>Snd7</td><td>3F+ 3E / 3C+30 2B-20        </td><td style=\"text-align: right;\">0.0089396</td><td style=\"text-align: right;\">222</td></tr>\n",
       "</tbody>\n",
       "</table>"
      ],
      "text/plain": [
       "<IPython.core.display.HTML object>"
      ]
     },
     "metadata": {},
     "output_type": "display_data"
    }
   ],
   "source": [
    "names = [\"T1\", \"T2\", \"T3\", \"T4\"]\n",
    "for name, t in zip(names, (t1, t2, t3, t4)):\n",
    "    print(name)\n",
    "    t.snd.report()"
   ]
  },
  {
   "cell_type": "code",
   "execution_count": 33,
   "metadata": {},
   "outputs": [
    {
     "name": "stdout",
     "output_type": "stream",
     "text": [
      "T1\n"
     ]
    },
    {
     "data": {
      "text/html": [
       "<table>\n",
       "<tbody>\n",
       "<tr><td>Pos1     </td><td>4Kg (small deviation)</td><td style=\"text-align: right;\"> 70</td></tr>\n",
       "<tr><td>No weight</td><td>-                    </td><td style=\"text-align: right;\"> 83</td></tr>\n",
       "<tr><td>Pos1     </td><td>5Kg                  </td><td style=\"text-align: right;\">147</td></tr>\n",
       "<tr><td>No weight</td><td>-                    </td><td style=\"text-align: right;\">182</td></tr>\n",
       "<tr><td>Pos1     </td><td>5Kg (-50c/+20c)      </td><td style=\"text-align: right;\">203</td></tr>\n",
       "<tr><td>Pos2     </td><td>2,5Kg                </td><td style=\"text-align: right;\">222</td></tr>\n",
       "</tbody>\n",
       "</table>"
      ],
      "text/plain": [
       "<IPython.core.display.HTML object>"
      ]
     },
     "metadata": {},
     "output_type": "display_data"
    },
    {
     "name": "stdout",
     "output_type": "stream",
     "text": [
      "T2\n"
     ]
    },
    {
     "data": {
      "text/html": [
       "<table>\n",
       "<tbody>\n",
       "<tr><td>Pos0     </td><td>5Kg</td><td style=\"text-align: right;\"> 17</td></tr>\n",
       "<tr><td>No weight</td><td>-  </td><td style=\"text-align: right;\"> 23</td></tr>\n",
       "<tr><td>Alu      </td><td>-  </td><td style=\"text-align: right;\">124</td></tr>\n",
       "</tbody>\n",
       "</table>"
      ],
      "text/plain": [
       "<IPython.core.display.HTML object>"
      ]
     },
     "metadata": {},
     "output_type": "display_data"
    },
    {
     "name": "stdout",
     "output_type": "stream",
     "text": [
      "T3\n"
     ]
    },
    {
     "data": {
      "text/html": [
       "<table>\n",
       "<tbody>\n",
       "<tr><td>Pos0, 4Kg (??)</td><td>-                    </td><td style=\"text-align: right;\">112</td></tr>\n",
       "<tr><td>Pos1          </td><td>5Kg                  </td><td style=\"text-align: right;\">135</td></tr>\n",
       "<tr><td>Pos1          </td><td>4Kg (small deviation)</td><td style=\"text-align: right;\">163</td></tr>\n",
       "<tr><td>Pos1          </td><td>5Kg                  </td><td style=\"text-align: right;\">189</td></tr>\n",
       "</tbody>\n",
       "</table>"
      ],
      "text/plain": [
       "<IPython.core.display.HTML object>"
      ]
     },
     "metadata": {},
     "output_type": "display_data"
    },
    {
     "name": "stdout",
     "output_type": "stream",
     "text": [
      "T4\n"
     ]
    },
    {
     "data": {
      "text/html": [
       "<table>\n",
       "<tbody>\n",
       "<tr><td>Pos1     </td><td>4Kg (smalles noticiable dev)</td><td style=\"text-align: right;\"> 39</td></tr>\n",
       "<tr><td>Pos1     </td><td>4Kg (small dev)             </td><td style=\"text-align: right;\"> 63</td></tr>\n",
       "<tr><td>Pos0     </td><td>5Kg (almost no dev)         </td><td style=\"text-align: right;\">207</td></tr>\n",
       "<tr><td>Pos1     </td><td>5Kg                         </td><td style=\"text-align: right;\">214</td></tr>\n",
       "<tr><td>No weight</td><td>-                           </td><td style=\"text-align: right;\">222</td></tr>\n",
       "<tr><td>Pos1     </td><td>5Kg                         </td><td style=\"text-align: right;\">236</td></tr>\n",
       "</tbody>\n",
       "</table>"
      ],
      "text/plain": [
       "<IPython.core.display.HTML object>"
      ]
     },
     "metadata": {},
     "output_type": "display_data"
    }
   ],
   "source": [
    "names = [\"T1\", \"T2\", \"T3\", \"T4\"]\n",
    "for name, t in zip(names, (t1, t2, t3, t4)):\n",
    "    print(name)\n",
    "    t.weight.report()"
   ]
  },
  {
   "cell_type": "markdown",
   "metadata": {},
   "source": [
    "### Pesos\n",
    "\n",
    "TT1:\n",
    "    * 2.5 + 1.250 = 3.75 (~4)\n",
    "    * 5 Kg\n",
    "    * Total: 1.250, 2x2.5\n",
    "    \n",
    "TT2:\n",
    "    * 5 Kg (2x2.5)\n",
    "    * Aluminium + Magnet\n",
    "    \n",
    "TT3:\n",
    "    * 2.5, 1.250, 5, 2.5\n",
    "    * Total: 1.250, 2x2.5\n",
    "    \n",
    "TT4:\n",
    "    * 2.5 + 1.250\n",
    "    * 5\n",
    "    * Total: 1.250, 2x2.5\n",
    "    \n",
    "Total:\n",
    "    * 3 x 1.250\n",
    "    * 8 x 2.5\n",
    "    \n",
    "Si se usan de 5Kg:\n",
    "    * TT1: 2x2.5, 1x1.25\n",
    "    * TT2: 5Kg\n",
    "    * TT3: 1x2.5, 1x1.25, 1x5 o 1x2.5\n",
    "    * TT4: 1x2.5, 1x1.25, 1x5 o 1x2.5\n",
    "    * Total: 6x2.5, 1x5, 3x1.25"
   ]
  },
  {
   "cell_type": "code",
   "execution_count": null,
   "metadata": {},
   "outputs": [],
   "source": []
  }
 ],
 "metadata": {
  "kernelspec": {
   "display_name": "Python 3",
   "language": "python",
   "name": "python3"
  },
  "language_info": {
   "codemirror_mode": {
    "name": "ipython",
    "version": 3
   },
   "file_extension": ".py",
   "mimetype": "text/x-python",
   "name": "python",
   "nbconvert_exporter": "python",
   "pygments_lexer": "ipython3",
   "version": "3.6.3"
  },
  "toc": {
   "base_numbering": 1,
   "nav_menu": {},
   "number_sections": false,
   "sideBar": true,
   "skip_h1_title": false,
   "title_cell": "Table of Contents",
   "title_sidebar": "Contents",
   "toc_cell": false,
   "toc_position": {
    "height": "calc(100% - 180px)",
    "left": "10px",
    "top": "150px",
    "width": "199px"
   },
   "toc_section_display": true,
   "toc_window_display": true
  }
 },
 "nbformat": 4,
 "nbformat_minor": 2
}
