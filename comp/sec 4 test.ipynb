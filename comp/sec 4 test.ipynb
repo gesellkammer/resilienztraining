{
 "cells": [
  {
   "cell_type": "code",
   "execution_count": 21,
   "metadata": {},
   "outputs": [],
   "source": [
    "from emlib.music.interactive import *\n",
    "from emlib.iterlib import *\n",
    "from emlib.music import combtones\n",
    "from emlib.music import turntable\n",
    "from emlib.pitch import *\n",
    "from IPython.core.display import display, HTML\n",
    "import music21 as m21\n",
    "from emlib.dialogs import savedialog\n",
    "from emlib import mus\n",
    "from pathlib import Path\n",
    "from emlib.music.combtones import difftones\n",
    "from emlib.comp import resilienz\n",
    "from emlib.music.turntable import *\n",
    "from emlib import lib\n",
    "from tabulate import tabulate\n",
    "import time\n",
    "journal = Path(\"/home/em/notes/zim/ideas/proj/Resilienztraining/journal\")\n",
    "\n",
    "def diffs(ch, dur=0):\n",
    "    d = Ch(ch).difftones()\n",
    "    print(d)\n",
    "    if dur > 0:\n",
    "        d.play(dur)\n",
    "    display(d.asmusic21(arpeggio=True))\n",
    "    return d"
   ]
  },
  {
   "cell_type": "markdown",
   "metadata": {},
   "source": [
    "## test 1"
   ]
  },
  {
   "cell_type": "code",
   "execution_count": 28,
   "metadata": {},
   "outputs": [
    {
     "data": {
      "text/html": [
       "<table>\n",
       "<tbody>\n",
       "<tr><td>TurntableChord | 3C      131Hz</td><td>TurntableChord | 3C+17   132Hz</td><td style=\"text-align: right;\">1</td><td style=\"text-align: right;\"> 3</td></tr>\n",
       "<tr><td>TurntableChord | 3C#     139Hz</td><td>TurntableChord | 3C#+17  140Hz</td><td style=\"text-align: right;\">1</td><td style=\"text-align: right;\"> 3</td></tr>\n",
       "<tr><td>TurntableChord | 3D      147Hz</td><td>TurntableChord | 3D+17   148Hz</td><td style=\"text-align: right;\">1</td><td style=\"text-align: right;\"> 4</td></tr>\n",
       "<tr><td>TurntableChord | 3D#     156Hz</td><td>TurntableChord | 3D#+17  157Hz</td><td style=\"text-align: right;\">2</td><td style=\"text-align: right;\"> 4</td></tr>\n",
       "<tr><td>TurntableChord | 3E      165Hz</td><td>TurntableChord | 3E+17   167Hz</td><td style=\"text-align: right;\">2</td><td style=\"text-align: right;\"> 4</td></tr>\n",
       "<tr><td>TurntableChord | 3F      175Hz</td><td>TurntableChord | 3F+17   177Hz</td><td style=\"text-align: right;\">2</td><td style=\"text-align: right;\"> 4</td></tr>\n",
       "<tr><td>TurntableChord | 3F#     185Hz</td><td>TurntableChord | 3F#+17  187Hz</td><td style=\"text-align: right;\">2</td><td style=\"text-align: right;\"> 5</td></tr>\n",
       "<tr><td>TurntableChord | 3G      196Hz</td><td>TurntableChord | 3G+17   198Hz</td><td style=\"text-align: right;\">2</td><td style=\"text-align: right;\"> 5</td></tr>\n",
       "<tr><td>TurntableChord | 3G#     208Hz</td><td>TurntableChord | 3G#+17  210Hz</td><td style=\"text-align: right;\">2</td><td style=\"text-align: right;\"> 5</td></tr>\n",
       "<tr><td>TurntableChord | 3A      221Hz</td><td>TurntableChord | 3A+17   223Hz</td><td style=\"text-align: right;\">2</td><td style=\"text-align: right;\"> 6</td></tr>\n",
       "<tr><td>TurntableChord | 3A#     234Hz</td><td>TurntableChord | 3A#+17  236Hz</td><td style=\"text-align: right;\">2</td><td style=\"text-align: right;\"> 6</td></tr>\n",
       "<tr><td>TurntableChord | 3B      248Hz</td><td>TurntableChord | 3B+17   250Hz</td><td style=\"text-align: right;\">2</td><td style=\"text-align: right;\"> 6</td></tr>\n",
       "<tr><td>TurntableChord | 4C      262Hz</td><td>TurntableChord | 4C+17   265Hz</td><td style=\"text-align: right;\">3</td><td style=\"text-align: right;\"> 7</td></tr>\n",
       "<tr><td>TurntableChord | 4C#     278Hz</td><td>TurntableChord | 4C#+17  281Hz</td><td style=\"text-align: right;\">3</td><td style=\"text-align: right;\"> 7</td></tr>\n",
       "<tr><td>TurntableChord | 4D      294Hz</td><td>TurntableChord | 4D+17   297Hz</td><td style=\"text-align: right;\">3</td><td style=\"text-align: right;\"> 7</td></tr>\n",
       "<tr><td>TurntableChord | 4D#     312Hz</td><td>TurntableChord | 4D#+17  315Hz</td><td style=\"text-align: right;\">3</td><td style=\"text-align: right;\"> 8</td></tr>\n",
       "<tr><td>TurntableChord | 4E      331Hz</td><td>TurntableChord | 4E+17   334Hz</td><td style=\"text-align: right;\">3</td><td style=\"text-align: right;\"> 8</td></tr>\n",
       "<tr><td>TurntableChord | 4F      350Hz</td><td>TurntableChord | 4F+17   354Hz</td><td style=\"text-align: right;\">4</td><td style=\"text-align: right;\"> 9</td></tr>\n",
       "<tr><td>TurntableChord | 4F#     371Hz</td><td>TurntableChord | 4F#+17  375Hz</td><td style=\"text-align: right;\">4</td><td style=\"text-align: right;\"> 9</td></tr>\n",
       "<tr><td>TurntableChord | 4G      393Hz</td><td>TurntableChord | 4G+17   397Hz</td><td style=\"text-align: right;\">4</td><td style=\"text-align: right;\">10</td></tr>\n",
       "<tr><td>TurntableChord | 4G#     417Hz</td><td>TurntableChord | 4G#+17  421Hz</td><td style=\"text-align: right;\">4</td><td style=\"text-align: right;\">10</td></tr>\n",
       "<tr><td>TurntableChord | 4A      442Hz</td><td>TurntableChord | 4A+17   446Hz</td><td style=\"text-align: right;\">4</td><td style=\"text-align: right;\">11</td></tr>\n",
       "<tr><td>TurntableChord | 4A#     468Hz</td><td>TurntableChord | 4A#+17  472Hz</td><td style=\"text-align: right;\">5</td><td style=\"text-align: right;\">12</td></tr>\n",
       "<tr><td>TurntableChord | 4B      496Hz</td><td>TurntableChord | 4B+17   501Hz</td><td style=\"text-align: right;\">5</td><td style=\"text-align: right;\">12</td></tr>\n",
       "</tbody>\n",
       "</table>"
      ],
      "text/plain": [
       "<IPython.core.display.HTML object>"
      ]
     },
     "metadata": {},
     "output_type": "display_data"
    }
   ],
   "source": [
    "rows = []\n",
    "for midi in range(48, 72):\n",
    "    note = m2n(midi)\n",
    "    t1 = turntable.TurntableChord(45, note)\n",
    "    t2 = t1.percent(1)\n",
    "    row = str(t1), str(t2), round(t2.freqs[0] - t1.freqs[0]), round(abs(t1.freqs[0] - t1.at(ratio=0.975).freqs[0]))\n",
    "    rows.append(row)\n",
    "# HTML(tabulate(rows, tablefmt='html'))\n",
    "lib.print_table(rows)"
   ]
  },
  {
   "cell_type": "code",
   "execution_count": 27,
   "metadata": {},
   "outputs": [
    {
     "data": {
      "text/plain": [
       "<emlib.snd.csoundengine.Synth at 0x7fb544db5e80>"
      ]
     },
     "execution_count": 27,
     "metadata": {},
     "output_type": "execute_result"
    }
   ],
   "source": [
    "dur = 10\n",
    "N(\"3D#\").play(dur, chan=1)\n",
    "N(\"3D#+34\").play(dur, chan=2)"
   ]
  },
  {
   "cell_type": "code",
   "execution_count": null,
   "metadata": {},
   "outputs": [],
   "source": []
  }
 ],
 "metadata": {
  "kernelspec": {
   "display_name": "Python 3",
   "language": "python",
   "name": "python3"
  },
  "language_info": {
   "codemirror_mode": {
    "name": "ipython",
    "version": 3
   },
   "file_extension": ".py",
   "mimetype": "text/x-python",
   "name": "python",
   "nbconvert_exporter": "python",
   "pygments_lexer": "ipython3",
   "version": "3.6.3"
  },
  "toc": {
   "base_numbering": 1,
   "nav_menu": {},
   "number_sections": false,
   "sideBar": true,
   "skip_h1_title": false,
   "title_cell": "Table of Contents",
   "title_sidebar": "Contents",
   "toc_cell": false,
   "toc_position": {
    "height": "calc(100% - 180px)",
    "left": "10px",
    "top": "150px",
    "width": "245px"
   },
   "toc_section_display": true,
   "toc_window_display": true
  }
 },
 "nbformat": 4,
 "nbformat_minor": 2
}
